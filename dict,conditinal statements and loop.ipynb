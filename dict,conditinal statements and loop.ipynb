{
 "cells": [
  {
   "cell_type": "code",
   "execution_count": 9,
   "id": "6d3787b6-89ef-4c49-af46-8916e9b150a0",
   "metadata": {},
   "outputs": [],
   "source": [
    "d = {'key': 'Value', 'a': \"Ganesh\", 'b': \"Prafull\"}"
   ]
  },
  {
   "cell_type": "code",
   "execution_count": 10,
   "id": "7fea4162-521b-409f-ae8e-f35d198eaca5",
   "metadata": {},
   "outputs": [
    {
     "data": {
      "text/plain": [
       "dict"
      ]
     },
     "execution_count": 10,
     "metadata": {},
     "output_type": "execute_result"
    }
   ],
   "source": [
    "type(d)"
   ]
  },
  {
   "cell_type": "code",
   "execution_count": 12,
   "id": "df28e304-60b7-409b-a63f-48d4763381d6",
   "metadata": {},
   "outputs": [
    {
     "data": {
      "text/plain": [
       "{'key': 'Value', 'a': 'Ganesh', 'b': 'Prafull'}"
      ]
     },
     "execution_count": 12,
     "metadata": {},
     "output_type": "execute_result"
    }
   ],
   "source": [
    "d"
   ]
  },
  {
   "cell_type": "code",
   "execution_count": 14,
   "id": "68fe690c-e254-4e42-924b-7c565e72995b",
   "metadata": {},
   "outputs": [],
   "source": [
    "d2 = {'name': 'Ganesh', 'email': 'pdthokal1@gmail.com', 'number': '7040476191'}"
   ]
  },
  {
   "cell_type": "code",
   "execution_count": 15,
   "id": "4a0fe24d-87b2-4e7c-bfed-4440737b6ecb",
   "metadata": {},
   "outputs": [
    {
     "data": {
      "text/plain": [
       "{'name': 'Ganesh', 'email': 'pdthokal1@gmail.com', 'number': '7040476191'}"
      ]
     },
     "execution_count": 15,
     "metadata": {},
     "output_type": "execute_result"
    }
   ],
   "source": [
    "d2"
   ]
  },
  {
   "cell_type": "code",
   "execution_count": 24,
   "id": "53348281-c148-4ff6-8f25-7eb7ff499bdb",
   "metadata": {},
   "outputs": [],
   "source": [
    "d3 = {323: \"Prafull\", '@': 'Prafulla', True: 'You are'}"
   ]
  },
  {
   "cell_type": "code",
   "execution_count": 25,
   "id": "256406b8-a86a-4d07-8430-c23cd6ccc20c",
   "metadata": {},
   "outputs": [
    {
     "data": {
      "text/plain": [
       "{323: 'Prafull', '@': 'Prafulla', True: 'You are'}"
      ]
     },
     "execution_count": 25,
     "metadata": {},
     "output_type": "execute_result"
    }
   ],
   "source": [
    "d3"
   ]
  },
  {
   "cell_type": "code",
   "execution_count": 26,
   "id": "77f45c98-27ee-425e-9881-9fcf02cd4617",
   "metadata": {},
   "outputs": [
    {
     "data": {
      "text/plain": [
       "'Prafull'"
      ]
     },
     "execution_count": 26,
     "metadata": {},
     "output_type": "execute_result"
    }
   ],
   "source": [
    "d3[323]"
   ]
  },
  {
   "cell_type": "code",
   "execution_count": 28,
   "id": "fba64b88-a7cd-4f75-9379-d0b3bafeccf6",
   "metadata": {},
   "outputs": [
    {
     "data": {
      "text/plain": [
       "'You are'"
      ]
     },
     "execution_count": 28,
     "metadata": {},
     "output_type": "execute_result"
    }
   ],
   "source": [
    "d3[True]"
   ]
  },
  {
   "cell_type": "code",
   "execution_count": 30,
   "id": "513b699f-ea80-425c-abbb-03ad3e4673aa",
   "metadata": {},
   "outputs": [],
   "source": [
    "d4 = {'name': \"ganesh\", 'email': 'Prafull.thokal123@gmail.com', 'name': \"Prafull\"}"
   ]
  },
  {
   "cell_type": "code",
   "execution_count": 32,
   "id": "6e21f3e0-a7d3-4580-93bd-5f140291acea",
   "metadata": {},
   "outputs": [
    {
     "data": {
      "text/plain": [
       "'Prafull'"
      ]
     },
     "execution_count": 32,
     "metadata": {},
     "output_type": "execute_result"
    }
   ],
   "source": [
    "d4['name']"
   ]
  },
  {
   "cell_type": "code",
   "execution_count": 33,
   "id": "a268fbb7-ccb9-46b6-819e-d868d463a938",
   "metadata": {},
   "outputs": [],
   "source": [
    "d5 = {\"company\": \"cognizant\", 'courses': ['Bisquad', 'big data', 'Mainframe']}"
   ]
  },
  {
   "cell_type": "code",
   "execution_count": 34,
   "id": "d7216d36-22a5-4e5d-b7fd-5329bb4fc14a",
   "metadata": {},
   "outputs": [
    {
     "data": {
      "text/plain": [
       "{'company': 'cognizant', 'courses': ['Bisquad', 'big data', 'Mainframe']}"
      ]
     },
     "execution_count": 34,
     "metadata": {},
     "output_type": "execute_result"
    }
   ],
   "source": [
    "d5"
   ]
  },
  {
   "cell_type": "code",
   "execution_count": 35,
   "id": "af255db7-393f-41cd-8fc3-1b65e1ae1de4",
   "metadata": {},
   "outputs": [
    {
     "data": {
      "text/plain": [
       "['Bisquad', 'big data', 'Mainframe']"
      ]
     },
     "execution_count": 35,
     "metadata": {},
     "output_type": "execute_result"
    }
   ],
   "source": [
    "d5['courses']"
   ]
  },
  {
   "cell_type": "code",
   "execution_count": 36,
   "id": "682b78d5-bc06-4ad5-8081-59cf146091ba",
   "metadata": {},
   "outputs": [
    {
     "data": {
      "text/plain": [
       "'Mainframe'"
      ]
     },
     "execution_count": 36,
     "metadata": {},
     "output_type": "execute_result"
    }
   ],
   "source": [
    "d5['courses'][2]"
   ]
  },
  {
   "cell_type": "code",
   "execution_count": 42,
   "id": "b056702c-9508-4535-a2a4-508bc925dcb8",
   "metadata": {},
   "outputs": [],
   "source": [
    "d6 = {'number':[2,4,65,7,7,5,3,1,5,7,8,4], 'assignments': (1,3,4,5,7,7,54,3,2), 'Launch_date': {23,3,5}, 'class timing': {'mpsc': 4, 'afcat': 6, 'gym': 8}}"
   ]
  },
  {
   "cell_type": "code",
   "execution_count": 45,
   "id": "c86fdab8-83e6-4e35-bc5b-58bc0dd3852f",
   "metadata": {},
   "outputs": [
    {
     "data": {
      "text/plain": [
       "{'number': [2, 4, 65, 7, 7, 5, 3, 1, 5, 7, 8, 4],\n",
       " 'assignments': (1, 3, 4, 5, 7, 7, 54, 3, 2),\n",
       " 'Launch_date': {3, 5, 23},\n",
       " 'class timing': {'mpsc': 4, 'afcat': 6, 'gym': 8}}"
      ]
     },
     "execution_count": 45,
     "metadata": {},
     "output_type": "execute_result"
    }
   ],
   "source": [
    "d6"
   ]
  },
  {
   "cell_type": "code",
   "execution_count": 46,
   "id": "96f82b0f-c251-4a40-a805-ab57ba226d1d",
   "metadata": {},
   "outputs": [
    {
     "data": {
      "text/plain": [
       "8"
      ]
     },
     "execution_count": 46,
     "metadata": {},
     "output_type": "execute_result"
    }
   ],
   "source": [
    "d6['class timing']['gym']"
   ]
  },
  {
   "cell_type": "code",
   "execution_count": 48,
   "id": "1565751c-0ac9-4e35-8a9a-3491fb3fcaec",
   "metadata": {},
   "outputs": [],
   "source": [
    "d6['mentor'] = ['Shudhanshu', 'krish', 'anurag']"
   ]
  },
  {
   "cell_type": "code",
   "execution_count": 49,
   "id": "2f631d48-5562-411b-9bf2-661983fb5afb",
   "metadata": {},
   "outputs": [
    {
     "data": {
      "text/plain": [
       "{'number': [2, 4, 65, 7, 7, 5, 3, 1, 5, 7, 8, 4],\n",
       " 'assignments': (1, 3, 4, 5, 7, 7, 54, 3, 2),\n",
       " 'Launch_date': {3, 5, 23},\n",
       " 'class timing': {'mpsc': 4, 'afcat': 6, 'gym': 8},\n",
       " 'mentor': ['Shudhanshu', 'krish', 'anurag']}"
      ]
     },
     "execution_count": 49,
     "metadata": {},
     "output_type": "execute_result"
    }
   ],
   "source": [
    "d6"
   ]
  },
  {
   "cell_type": "code",
   "execution_count": 50,
   "id": "1a387f9b-14f7-4210-9434-0b33c9ba293e",
   "metadata": {},
   "outputs": [],
   "source": [
    "del d6['Launch_date']"
   ]
  },
  {
   "cell_type": "code",
   "execution_count": 51,
   "id": "b7830614-035c-4f61-b8e4-389831cf4f9c",
   "metadata": {},
   "outputs": [
    {
     "data": {
      "text/plain": [
       "{'number': [2, 4, 65, 7, 7, 5, 3, 1, 5, 7, 8, 4],\n",
       " 'assignments': (1, 3, 4, 5, 7, 7, 54, 3, 2),\n",
       " 'class timing': {'mpsc': 4, 'afcat': 6, 'gym': 8},\n",
       " 'mentor': ['Shudhanshu', 'krish', 'anurag']}"
      ]
     },
     "execution_count": 51,
     "metadata": {},
     "output_type": "execute_result"
    }
   ],
   "source": [
    "d6"
   ]
  },
  {
   "cell_type": "code",
   "execution_count": 52,
   "id": "b3c3a6fe-5d42-4416-8d71-57f460d94214",
   "metadata": {},
   "outputs": [
    {
     "data": {
      "text/plain": [
       "dict_keys(['number', 'assignments', 'class timing', 'mentor'])"
      ]
     },
     "execution_count": 52,
     "metadata": {},
     "output_type": "execute_result"
    }
   ],
   "source": [
    "d6.keys()"
   ]
  },
  {
   "cell_type": "code",
   "execution_count": 53,
   "id": "7d71b924-0e38-4c74-b986-15b22a20b49f",
   "metadata": {},
   "outputs": [
    {
     "data": {
      "text/plain": [
       "['number', 'assignments', 'class timing', 'mentor']"
      ]
     },
     "execution_count": 53,
     "metadata": {},
     "output_type": "execute_result"
    }
   ],
   "source": [
    "list(d6.keys())"
   ]
  },
  {
   "cell_type": "code",
   "execution_count": 54,
   "id": "4679fc17-f324-4ee6-b7c9-a28d2dfbdd6e",
   "metadata": {},
   "outputs": [
    {
     "data": {
      "text/plain": [
       "dict_values([[2, 4, 65, 7, 7, 5, 3, 1, 5, 7, 8, 4], (1, 3, 4, 5, 7, 7, 54, 3, 2), {'mpsc': 4, 'afcat': 6, 'gym': 8}, ['Shudhanshu', 'krish', 'anurag']])"
      ]
     },
     "execution_count": 54,
     "metadata": {},
     "output_type": "execute_result"
    }
   ],
   "source": [
    "d6.values()"
   ]
  },
  {
   "cell_type": "code",
   "execution_count": 55,
   "id": "676b40a7-f46b-4fc0-b013-12abda342587",
   "metadata": {},
   "outputs": [
    {
     "data": {
      "text/plain": [
       "[[2, 4, 65, 7, 7, 5, 3, 1, 5, 7, 8, 4],\n",
       " (1, 3, 4, 5, 7, 7, 54, 3, 2),\n",
       " {'mpsc': 4, 'afcat': 6, 'gym': 8},\n",
       " ['Shudhanshu', 'krish', 'anurag']]"
      ]
     },
     "execution_count": 55,
     "metadata": {},
     "output_type": "execute_result"
    }
   ],
   "source": [
    "list(d6.values())"
   ]
  },
  {
   "cell_type": "code",
   "execution_count": 57,
   "id": "5fc70e55-e7d2-489e-912e-41103dbc9d66",
   "metadata": {},
   "outputs": [
    {
     "data": {
      "text/plain": [
       "dict_items([('number', [2, 4, 65, 7, 7, 5, 3, 1, 5, 7, 8, 4]), ('assignments', (1, 3, 4, 5, 7, 7, 54, 3, 2)), ('class timing', {'mpsc': 4, 'afcat': 6, 'gym': 8}), ('mentor', ['Shudhanshu', 'krish', 'anurag'])])"
      ]
     },
     "execution_count": 57,
     "metadata": {},
     "output_type": "execute_result"
    }
   ],
   "source": [
    "d6.items()"
   ]
  },
  {
   "cell_type": "code",
   "execution_count": 58,
   "id": "c502d81b-d31f-4109-bcea-0ee00088470a",
   "metadata": {},
   "outputs": [
    {
     "data": {
      "text/plain": [
       "[('number', [2, 4, 65, 7, 7, 5, 3, 1, 5, 7, 8, 4]),\n",
       " ('assignments', (1, 3, 4, 5, 7, 7, 54, 3, 2)),\n",
       " ('class timing', {'mpsc': 4, 'afcat': 6, 'gym': 8}),\n",
       " ('mentor', ['Shudhanshu', 'krish', 'anurag'])]"
      ]
     },
     "execution_count": 58,
     "metadata": {},
     "output_type": "execute_result"
    }
   ],
   "source": [
    "list(d6.items())"
   ]
  },
  {
   "cell_type": "code",
   "execution_count": 60,
   "id": "6fc8bae9-d671-4c73-bd9d-d66fc80e3df9",
   "metadata": {},
   "outputs": [
    {
     "data": {
      "text/plain": [
       "(1, 3, 4, 5, 7, 7, 54, 3, 2)"
      ]
     },
     "execution_count": 60,
     "metadata": {},
     "output_type": "execute_result"
    }
   ],
   "source": [
    "d6.pop('assignments')"
   ]
  },
  {
   "cell_type": "code",
   "execution_count": 61,
   "id": "300e1d16-25a1-460b-8ffc-edc9d5825288",
   "metadata": {},
   "outputs": [
    {
     "data": {
      "text/plain": [
       "{'number': [2, 4, 65, 7, 7, 5, 3, 1, 5, 7, 8, 4],\n",
       " 'class timing': {'mpsc': 4, 'afcat': 6, 'gym': 8},\n",
       " 'mentor': ['Shudhanshu', 'krish', 'anurag']}"
      ]
     },
     "execution_count": 61,
     "metadata": {},
     "output_type": "execute_result"
    }
   ],
   "source": [
    "d6"
   ]
  },
  {
   "cell_type": "code",
   "execution_count": 62,
   "id": "583083a0-30a5-42d8-b116-9a06b26f2fe3",
   "metadata": {},
   "outputs": [],
   "source": [
    "del d6[\"number\"]"
   ]
  },
  {
   "cell_type": "code",
   "execution_count": 63,
   "id": "d97d6e36-b6cf-4998-b9d2-0941de2b1795",
   "metadata": {},
   "outputs": [
    {
     "data": {
      "text/plain": [
       "{'class timing': {'mpsc': 4, 'afcat': 6, 'gym': 8},\n",
       " 'mentor': ['Shudhanshu', 'krish', 'anurag']}"
      ]
     },
     "execution_count": 63,
     "metadata": {},
     "output_type": "execute_result"
    }
   ],
   "source": [
    "d6"
   ]
  },
  {
   "cell_type": "code",
   "execution_count": 66,
   "id": "770db548-bf91-4298-b3ce-a1d988026e25",
   "metadata": {},
   "outputs": [
    {
     "data": {
      "text/plain": [
       "{'class timing': {'mpsc': 4, 'afcat': 6, 'gym': 8},\n",
       " 'mentor': ['Shudhanshu', 'krish', 'anurag']}"
      ]
     },
     "execution_count": 66,
     "metadata": {},
     "output_type": "execute_result"
    }
   ],
   "source": [
    "d6"
   ]
  },
  {
   "cell_type": "code",
   "execution_count": 80,
   "id": "6bde9e1f-9131-4dd8-959f-584ae9815ead",
   "metadata": {},
   "outputs": [
    {
     "name": "stdout",
     "output_type": "stream",
     "text": [
      "you'll be part of a0 batch\n"
     ]
    }
   ],
   "source": [
    "marks = 88\n",
    "if marks >= 80:\n",
    "    print(\"you'll be part of a0 batch\")\n",
    "elif marks >= 60 and marks < 80:\n",
    "    print(\"you'll be part of a1 batch\")\n",
    "elif marks >= 40 and marks < 60: \n",
    "    print(\"You'll be part of a2 batch\")\n",
    "else:\n",
    "    print(\"You'll be part of a3 batch\")"
   ]
  },
  {
   "cell_type": "code",
   "execution_count": 95,
   "id": "eab794a3-2052-4340-bfc9-f3e8084dd8f1",
   "metadata": {},
   "outputs": [
    {
     "name": "stdin",
     "output_type": "stream",
     "text": [
      "Please put your marks here: 765\n"
     ]
    },
    {
     "name": "stdout",
     "output_type": "stream",
     "text": [
      "you'll be part of a0 batch\n"
     ]
    }
   ],
   "source": [
    "marks = int(input(\"Please put your marks here:\"))\n",
    "if marks >= 80:\n",
    "    print(\"you'll be part of a0 batch\")\n",
    "elif marks >= 60 and marks < 80:\n",
    "    print(\"you'll be part of a1 batch\")\n",
    "elif marks >= 40 and marks < 60: \n",
    "    print(\"You'll be part of a2 batch\")\n",
    "else:\n",
    "    print(\"You'll be part of a3 batch\")"
   ]
  },
  {
   "cell_type": "code",
   "execution_count": 96,
   "id": "c1236481-bd97-4860-883c-644a95e06fe2",
   "metadata": {},
   "outputs": [
    {
     "data": {
      "text/plain": [
       "int"
      ]
     },
     "execution_count": 96,
     "metadata": {},
     "output_type": "execute_result"
    }
   ],
   "source": [
    "type(marks)"
   ]
  },
  {
   "cell_type": "code",
   "execution_count": 101,
   "id": "09643329-dd93-4ba1-bf9e-d208e4d1a31c",
   "metadata": {},
   "outputs": [
    {
     "name": "stdin",
     "output_type": "stream",
     "text": [
      "Enter the price here:  5465\n"
     ]
    },
    {
     "name": "stdout",
     "output_type": "stream",
     "text": [
      "I will not purchase\n"
     ]
    }
   ],
   "source": [
    "price = int(input(\"Enter the price here: \")) \n",
    "if price > 1000:\n",
    "    print(\"I will not purchase\")\n",
    "else:\n",
    "    print(\"I will Purchase\")"
   ]
  },
  {
   "cell_type": "code",
   "execution_count": 106,
   "id": "d3a1394d-28a9-4c2e-a4ca-eb1052f4ee1f",
   "metadata": {},
   "outputs": [
    {
     "name": "stdin",
     "output_type": "stream",
     "text": [
      "Enter the price here:  89\n"
     ]
    },
    {
     "name": "stdout",
     "output_type": "stream",
     "text": [
      "I will purchase\n"
     ]
    }
   ],
   "source": [
    "price = int(input(\"Enter the price here: \")) \n",
    "if price > 1000:\n",
    "    print(\"I will not purchase\")\n",
    "    if price > 5000:\n",
    "        print(\"I will definately not purchase\")\n",
    "    elif price < 2000:\n",
    "        print(\"I will think about purchase\")\n",
    "else:\n",
    "    print(\"I will purchase\")"
   ]
  },
  {
   "cell_type": "code",
   "execution_count": 109,
   "id": "9ce43eb0-cfef-4ab0-ad3f-0870118ba46f",
   "metadata": {},
   "outputs": [
    {
     "name": "stdin",
     "output_type": "stream",
     "text": [
      "Enter the price here:  524\n"
     ]
    },
    {
     "name": "stdout",
     "output_type": "stream",
     "text": [
      "I will purchase\n"
     ]
    }
   ],
   "source": [
    "price = int(input(\"Enter the price here: \")) \n",
    "if price > 1000:\n",
    "    print(\"I will not purchase\")\n",
    "    if price > 5000:\n",
    "        print(\"I will definately not purchase\")\n",
    "    elif price < 2000:\n",
    "        print(\"I will think about purchase\")\n",
    "elif price < 1000:\n",
    "    print(\"I will purchase\")\n",
    "else:\n",
    "    print(\"Not interested\")"
   ]
  },
  {
   "cell_type": "code",
   "execution_count": 110,
   "id": "8121ea09-9850-42e7-8c91-c9da7ee25c32",
   "metadata": {},
   "outputs": [],
   "source": [
    "a = [4,5646,7,77645,7889,4,2,34,5,75,78]"
   ]
  },
  {
   "cell_type": "code",
   "execution_count": 111,
   "id": "1d0dcf64-6ff3-4fcc-baf1-786c559b5226",
   "metadata": {},
   "outputs": [
    {
     "data": {
      "text/plain": [
       "[4, 5646, 7, 77645, 7889, 4, 2, 34, 5, 75, 78]"
      ]
     },
     "execution_count": 111,
     "metadata": {},
     "output_type": "execute_result"
    }
   ],
   "source": [
    "a"
   ]
  },
  {
   "cell_type": "code",
   "execution_count": 119,
   "id": "85f903e4-9176-4a92-bae2-8281d714c926",
   "metadata": {},
   "outputs": [
    {
     "data": {
      "text/plain": [
       "5"
      ]
     },
     "execution_count": 119,
     "metadata": {},
     "output_type": "execute_result"
    }
   ],
   "source": [
    "a[0] + 1"
   ]
  },
  {
   "cell_type": "code",
   "execution_count": 115,
   "id": "41defcb9-111d-4ca1-9df9-5ac95bd64f53",
   "metadata": {},
   "outputs": [],
   "source": [
    "l1= []"
   ]
  },
  {
   "cell_type": "code",
   "execution_count": 120,
   "id": "6d6a69f7-5faf-4b62-a974-9bf95c7dcc3b",
   "metadata": {},
   "outputs": [],
   "source": [
    "l1.append(a[0] + 1)"
   ]
  },
  {
   "cell_type": "code",
   "execution_count": 121,
   "id": "f1b65feb-f417-47f9-9a96-7d9ca12f59ad",
   "metadata": {},
   "outputs": [
    {
     "data": {
      "text/plain": [
       "[5, 5]"
      ]
     },
     "execution_count": 121,
     "metadata": {},
     "output_type": "execute_result"
    }
   ],
   "source": [
    "l1"
   ]
  },
  {
   "cell_type": "code",
   "execution_count": 122,
   "id": "63c10668-bb1a-4230-b1c7-fc97c9624f13",
   "metadata": {},
   "outputs": [
    {
     "data": {
      "text/plain": [
       "5"
      ]
     },
     "execution_count": 122,
     "metadata": {},
     "output_type": "execute_result"
    }
   ],
   "source": [
    "l1.pop()"
   ]
  },
  {
   "cell_type": "code",
   "execution_count": 123,
   "id": "1007b71b-0ae1-46e4-b761-2e0b0f492f18",
   "metadata": {},
   "outputs": [
    {
     "data": {
      "text/plain": [
       "[5]"
      ]
     },
     "execution_count": 123,
     "metadata": {},
     "output_type": "execute_result"
    }
   ],
   "source": [
    "l1"
   ]
  },
  {
   "cell_type": "code",
   "execution_count": 124,
   "id": "133f8937-b5d1-427c-abd4-ca715cc574cf",
   "metadata": {},
   "outputs": [],
   "source": [
    "a = [4,5646,7,77645,7889,4,2,34,5,75,78]"
   ]
  },
  {
   "cell_type": "code",
   "execution_count": 125,
   "id": "8e2df193-ee22-4bbe-966f-fbd7a5f89a82",
   "metadata": {},
   "outputs": [
    {
     "data": {
      "text/plain": [
       "[4, 5646, 7, 77645, 7889, 4, 2, 34, 5, 75, 78]"
      ]
     },
     "execution_count": 125,
     "metadata": {},
     "output_type": "execute_result"
    }
   ],
   "source": [
    "a"
   ]
  },
  {
   "cell_type": "code",
   "execution_count": 137,
   "id": "9e8b8873-b781-44de-8699-838fca9034c4",
   "metadata": {},
   "outputs": [
    {
     "name": "stdout",
     "output_type": "stream",
     "text": [
      "5\n",
      "5647\n",
      "8\n",
      "77646\n",
      "7890\n",
      "5\n",
      "3\n",
      "35\n",
      "6\n",
      "76\n",
      "79\n"
     ]
    },
    {
     "data": {
      "text/plain": [
       "[5, 5647, 8, 77646, 7890, 5, 3, 35, 6, 76, 79]"
      ]
     },
     "execution_count": 137,
     "metadata": {},
     "output_type": "execute_result"
    }
   ],
   "source": [
    "l2 = [] \n",
    "for ganesh in a:\n",
    "    print(ganesh + 1)\n",
    "    l2.append(ganesh + 1)\n",
    "l2"
   ]
  },
  {
   "cell_type": "code",
   "execution_count": 134,
   "id": "2831eb02-9490-4fc9-83a0-6bb81dc6c76a",
   "metadata": {},
   "outputs": [
    {
     "data": {
      "text/plain": [
       "[5, 5647, 8, 77646, 7890, 5, 3, 35, 6, 76, 79]"
      ]
     },
     "execution_count": 134,
     "metadata": {},
     "output_type": "execute_result"
    }
   ],
   "source": [
    "l2"
   ]
  },
  {
   "cell_type": "code",
   "execution_count": 144,
   "id": "42a655ee-3428-46af-bf4c-bdd776547e0e",
   "metadata": {},
   "outputs": [],
   "source": [
    "l = [\"sudh\", 'kumar', \"PWskills\", \"Course\"]"
   ]
  },
  {
   "cell_type": "code",
   "execution_count": 145,
   "id": "c1289b34-3138-40ee-9815-8a6a1b1a02ad",
   "metadata": {},
   "outputs": [
    {
     "name": "stdout",
     "output_type": "stream",
     "text": [
      "sudh\n",
      "kumar\n",
      "PWskills\n",
      "Course\n"
     ]
    }
   ],
   "source": [
    "for i in l:\n",
    "    print(i)"
   ]
  },
  {
   "cell_type": "code",
   "execution_count": 150,
   "id": "ce878a6a-d3f7-46d2-a98d-da44374cfed3",
   "metadata": {},
   "outputs": [
    {
     "name": "stdout",
     "output_type": "stream",
     "text": [
      "sudh\n",
      "kumar\n",
      "PWskills\n",
      "Course\n"
     ]
    },
    {
     "data": {
      "text/plain": [
       "['SUDH', 'KUMAR', 'PWSKILLS', 'COURSE']"
      ]
     },
     "execution_count": 150,
     "metadata": {},
     "output_type": "execute_result"
    }
   ],
   "source": [
    "l4 = []\n",
    "for i in l:\n",
    "    print(i)\n",
    "    l4.append(i.upper())"
   ]
  },
  {
   "cell_type": "code",
   "execution_count": 151,
   "id": "df23ef57-9c74-475e-8d3a-426cb2d9c89b",
   "metadata": {},
   "outputs": [
    {
     "data": {
      "text/plain": [
       "['SUDH', 'KUMAR', 'PWSKILLS', 'COURSE']"
      ]
     },
     "execution_count": 151,
     "metadata": {},
     "output_type": "execute_result"
    }
   ],
   "source": [
    "l4"
   ]
  },
  {
   "cell_type": "code",
   "execution_count": 154,
   "id": "3ae3229b-889d-4f26-8936-2092aaad8c6f",
   "metadata": {},
   "outputs": [],
   "source": [
    "l = [21,4,54,6,756,2,32,6,65,431,4235,65767, \"Ganesh\", \"Thokal\", True, 34546.657]"
   ]
  },
  {
   "cell_type": "code",
   "execution_count": 156,
   "id": "975e1427-6085-4fa4-9699-3b5e5d251f8a",
   "metadata": {},
   "outputs": [],
   "source": [
    "l1_num = []\n",
    "l2_str = []\n",
    "for i in l:\n",
    "    if type(i) == int or type(i) == float:\n",
    "        l1_num.append(i)\n",
    "    else:\n",
    "        l2_str.append(i)"
   ]
  },
  {
   "cell_type": "code",
   "execution_count": 157,
   "id": "120e86fa-4ec3-4b24-90f0-482296d8c072",
   "metadata": {},
   "outputs": [
    {
     "data": {
      "text/plain": [
       "[21, 4, 54, 6, 756, 2, 32, 6, 65, 431, 4235, 65767, 34546.657]"
      ]
     },
     "execution_count": 157,
     "metadata": {},
     "output_type": "execute_result"
    }
   ],
   "source": [
    "l1_num"
   ]
  },
  {
   "cell_type": "code",
   "execution_count": 158,
   "id": "e46ffcf5-4782-4c44-9003-9d18fb138b81",
   "metadata": {},
   "outputs": [
    {
     "data": {
      "text/plain": [
       "['Ganesh', 'Thokal', True]"
      ]
     },
     "execution_count": 158,
     "metadata": {},
     "output_type": "execute_result"
    }
   ],
   "source": [
    "l2_str"
   ]
  },
  {
   "cell_type": "code",
   "execution_count": null,
   "id": "e75f491f-5ff6-4e56-a06b-65d712944f24",
   "metadata": {},
   "outputs": [],
   "source": []
  }
 ],
 "metadata": {
  "kernelspec": {
   "display_name": "Python 3 (ipykernel)",
   "language": "python",
   "name": "python3"
  },
  "language_info": {
   "codemirror_mode": {
    "name": "ipython",
    "version": 3
   },
   "file_extension": ".py",
   "mimetype": "text/x-python",
   "name": "python",
   "nbconvert_exporter": "python",
   "pygments_lexer": "ipython3",
   "version": "3.10.8"
  }
 },
 "nbformat": 4,
 "nbformat_minor": 5
}
